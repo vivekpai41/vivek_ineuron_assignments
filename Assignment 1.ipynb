{
  "cells": [
    {
      "metadata": {
        "trusted": true
      },
      "cell_type": "code",
      "source": "\"\"\"Write a program which will find all such numbers which are divisible by 7 but are not a multiple\nof 5, between 2000 and 3200 (both included). The numbers obtained should be printed in a\ncomma-separated sequence on a single line.\n\"\"\"\nn1=2000\nn2=3200\n\ns =list(range(n1,(n2+1)))\n\nfor i in s:\n    if ((i%7 == 0) and (i%5 != 0)):\n        print(str(i) + ',',end=' ')\n",
      "execution_count": 1,
      "outputs": [
        {
          "output_type": "stream",
          "text": "2002, 2009, 2016, 2023, 2037, 2044, 2051, 2058, 2072, 2079, 2086, 2093, 2107, 2114, 2121, 2128, 2142, 2149, 2156, 2163, 2177, 2184, 2191, 2198, 2212, 2219, 2226, 2233, 2247, 2254, 2261, 2268, 2282, 2289, 2296, 2303, 2317, 2324, 2331, 2338, 2352, 2359, 2366, 2373, 2387, 2394, 2401, 2408, 2422, 2429, 2436, 2443, 2457, 2464, 2471, 2478, 2492, 2499, 2506, 2513, 2527, 2534, 2541, 2548, 2562, 2569, 2576, 2583, 2597, 2604, 2611, 2618, 2632, 2639, 2646, 2653, 2667, 2674, 2681, 2688, 2702, 2709, 2716, 2723, 2737, 2744, 2751, 2758, 2772, 2779, 2786, 2793, 2807, 2814, 2821, 2828, 2842, 2849, 2856, 2863, 2877, 2884, 2891, 2898, 2912, 2919, 2926, 2933, 2947, 2954, 2961, 2968, 2982, 2989, 2996, 3003, 3017, 3024, 3031, 3038, 3052, 3059, 3066, 3073, 3087, 3094, 3101, 3108, 3122, 3129, 3136, 3143, 3157, 3164, 3171, 3178, 3192, 3199, ",
          "name": "stdout"
        }
      ]
    },
    {
      "metadata": {
        "trusted": true
      },
      "cell_type": "code",
      "source": "'''Write a Python program to accept the user's first and last name and then getting them printed in\nthe the reverse order with a space between first name and last name'''\n\nfirst_name = input(\"Please enter your first name: \")\nlast_name = input(\"Please enter your last name: \")\n\nprint(last_name + ' ' + first_name)",
      "execution_count": 2,
      "outputs": [
        {
          "output_type": "stream",
          "name": "stdout",
          "text": "Please enter your first name: Vivek\nPlease enter your last name: Pai\nPai Vivek\n"
        }
      ]
    },
    {
      "metadata": {
        "trusted": true
      },
      "cell_type": "code",
      "source": "\"\"\"Write a Python program to find the volume of a sphere with diameter 12 cm\"\"\"\ndiameter = 12\nradius = diameter/2\n\nfrom math import pi\nVolume = (4/3)*pi*(radius**3)\nprint(\"Volume of the sphere is:\", Volume)",
      "execution_count": 3,
      "outputs": [
        {
          "output_type": "stream",
          "text": "Volume of the sphere is: 904.7786842338603\n",
          "name": "stdout"
        }
      ]
    },
    {
      "metadata": {
        "trusted": true
      },
      "cell_type": "code",
      "source": "\"\"\"Task 2:\n1.\nWrite a program which accepts a sequence of comma-separated numbers from console and\ngenerate a list.\n\"\"\"\n\nCSV_Value= input(\"Please enter some numbers seperated by comma:\" )\n\n#Remove the comma from the input string\nnew_list=CSV_Value.split(',')\n\n#Stripe any spaces if remained from the list\nfinal_list = [i.strip(' ') for i in new_list]\n\nprint(final_list)",
      "execution_count": 4,
      "outputs": [
        {
          "output_type": "stream",
          "name": "stdout",
          "text": "Please enter some numbers seperated by comma:3, 34, 567 , 33456 \n['3', '34', '567', '33456']\n"
        }
      ]
    },
    {
      "metadata": {
        "trusted": true
      },
      "cell_type": "code",
      "source": "#Create the below pattern using nested for loop in Python.\n\ns=range(1,6)\nt=range(4,0,-1)\n\nfor i in s:\n    for j in range(i):\n        print(\"*\",end=' ')\n    print()\nelse:\n    for i in t:\n        for j in range(i):\n            print(\"*\",end=' ')\n        print()",
      "execution_count": 5,
      "outputs": [
        {
          "output_type": "stream",
          "text": "* \n* * \n* * * \n* * * * \n* * * * * \n* * * * \n* * * \n* * \n* \n",
          "name": "stdout"
        }
      ]
    },
    {
      "metadata": {
        "trusted": true
      },
      "cell_type": "code",
      "source": "#Write a Python program to reverse a word after accepting the input from the user.\n\ninp_word = input(\"Please enter an input word: \")\nrev_word= inp_word[::-1]\nprint(rev_word)",
      "execution_count": 6,
      "outputs": [
        {
          "output_type": "stream",
          "name": "stdout",
          "text": "Please enter an input word: AcadGild\ndliGdacA\n"
        }
      ]
    },
    {
      "metadata": {
        "trusted": true
      },
      "cell_type": "code",
      "source": "#Write a Python Program to print the given string in the format specified in the sample output.\n\ninp_string = \"WE, THE PEOPLE OF INDIA,\\n\\thaving solemnly resolved to constitute India into a SOVEREIGN,!\\n\\t\\tSOCIALIST, SECULAR, DEMOCRATIC REPUBLIC\\n\\t\\t and to secure to all its citizens\"\nprint(inp_string)",
      "execution_count": 7,
      "outputs": [
        {
          "output_type": "stream",
          "text": "WE, THE PEOPLE OF INDIA,\n\thaving solemnly resolved to constitute India into a SOVEREIGN,!\n\t\tSOCIALIST, SECULAR, DEMOCRATIC REPUBLIC\n\t\t and to secure to all its citizens\n",
          "name": "stdout"
        }
      ]
    },
    {
      "metadata": {
        "trusted": true
      },
      "cell_type": "code",
      "source": "",
      "execution_count": null,
      "outputs": []
    }
  ],
  "metadata": {
    "kernelspec": {
      "name": "python36",
      "display_name": "Python 3.6",
      "language": "python"
    },
    "language_info": {
      "mimetype": "text/x-python",
      "nbconvert_exporter": "python",
      "name": "python",
      "pygments_lexer": "ipython3",
      "version": "3.6.6",
      "file_extension": ".py",
      "codemirror_mode": {
        "version": 3,
        "name": "ipython"
      }
    }
  },
  "nbformat": 4,
  "nbformat_minor": 2
}